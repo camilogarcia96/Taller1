{
 "cells": [
  {
   "cell_type": "code",
   "execution_count": 135,
   "metadata": {},
   "outputs": [
    {
     "name": "stdout",
     "output_type": "stream",
     "text": [
      "Populating the interactive namespace from numpy and matplotlib\n"
     ]
    }
   ],
   "source": [
    "import os\n",
    "import pandas as pd\n",
    "import numpy as np\n",
    "import matplotlib.pyplot as plt\n",
    "from scipy import stats\n",
    "\n",
    "%pylab inline\n"
   ]
  },
  {
   "cell_type": "code",
   "execution_count": 136,
   "metadata": {},
   "outputs": [
    {
     "data": {
      "text/plain": [
       "['.DS_Store',\n",
       " '.git',\n",
       " '.ipynb_checkpoints',\n",
       " 'data',\n",
       " 'output',\n",
       " 'Taller1.ipynb',\n",
       " 'Untitled.ipynb']"
      ]
     },
     "execution_count": 136,
     "metadata": {},
     "output_type": "execute_result"
    }
   ],
   "source": [
    "os.listdir(u'/Users/camilogarciatorres/Documents/GitHub/Taller1')"
   ]
  },
  {
   "cell_type": "code",
   "execution_count": 137,
   "metadata": {},
   "outputs": [
    {
     "data": {
      "text/plain": [
       "'/Users/camilogarciatorres/Documents/GitHub/Taller1'"
      ]
     },
     "execution_count": 137,
     "metadata": {},
     "output_type": "execute_result"
    }
   ],
   "source": [
    "pwd\n"
   ]
  },
  {
   "cell_type": "code",
   "execution_count": 138,
   "metadata": {
    "collapsed": true
   },
   "outputs": [],
   "source": [
    "base_dir = os.path.join( '.','data')\n",
    "ciudad = 'Medellin'\n",
    "fuente = 'NREL'\n",
    "union = os.path.join(base_dir,ciudad,fuente+'.csv')\n",
    "serieREL= pd.read_csv(union, sep = ';',\n",
    "                encoding='latin-1')\n",
    "\n",
    "base_dir2 = os.path.join( '.','data')\n",
    "ciudad2 = 'Medellin'\n",
    "fuente2 = 'IDEAM'\n",
    "union2 = os.path.join(base_dir2,ciudad2,fuente2+'.csv')\n",
    "serieIDEAM = pd.read_csv(union2, sep = ';',\n",
    "                encoding='latin-1')\n"
   ]
  },
  {
   "cell_type": "markdown",
   "metadata": {},
   "source": [
    "## Punto 1 ##\n",
    "\n",
    "La idea de este punto es implementara una funcion que calcule la enficc al 99% con entrada una serie de 10 años."
   ]
  },
  {
   "cell_type": "code",
   "execution_count": 139,
   "metadata": {
    "collapsed": true
   },
   "outputs": [],
   "source": [
    "def ghi_mensual(serie_horaria):\n",
    "    agnos = sorted(serie_horaria['AÑO'].unique())\n",
    "    ghi_df = pd.DataFrame(columns=[\"AÑO\", \"MES\", \"DIAS\", \"GHImes\"])\n",
    "    for agno in agnos:\n",
    "        for mes in range(1,13):\n",
    "            nombre_energia = list(serie_horaria)[-1]\n",
    "            dias = sorted(serie_horaria[(serie_horaria['AÑO'] == agno) &\n",
    "                        (serie_horaria['MES'] == mes)][\"DIA\"].unique())\n",
    "            ghi_mes = serie_horaria.loc[((serie_horaria[\"AÑO\"] == agno)\n",
    "                            & (serie_horaria[\"MES\"] == mes)),\n",
    "                                        nombre_energia].sum()/1000\n",
    "            ghi_dict = {\"AÑO\":agno, \"MES\":mes, \"DIAS\":dias[-1],\n",
    "                        \"GHImes\":ghi_mes}\n",
    "            ghi_df = ghi_df.append(ghi_dict, ignore_index=True)\n",
    "    return ghi_df\n",
    "\n",
    "def ghi_dia(serie_ghi_mensual):\n",
    "    agnos = sorted(serie_ghi_mensual['AÑO'].unique())\n",
    "    ghi_df = pd.DataFrame(columns=[\"AÑO\", \"MES\", \"GHIdiario\"])\n",
    "    for agno in agnos:\n",
    "        for mes in range(1,13):\n",
    "            dias = serie_ghi_mensual.loc[((serie_ghi_mensual[\"AÑO\"] == agno)\n",
    "                            & (serie_ghi_mensual[\"MES\"] == mes))\n",
    "                                         ,\"DIAS\"].item()\n",
    "            ghi_diario = serie_ghi_mensual.loc[(\n",
    "                (serie_ghi_mensual[\"AÑO\"] == agno)\n",
    "                            & (serie_ghi_mensual[\"MES\"] == mes)),\n",
    "                \"GHImes\"].item()/dias\n",
    "            ghi_dict = {\"AÑO\":agno, \"MES\":mes, \"GHIdiario\":ghi_diario}\n",
    "            ghi_df = ghi_df.append(ghi_dict, ignore_index=True)\n",
    "    return ghi_df"
   ]
  },
  {
   "cell_type": "code",
   "execution_count": 148,
   "metadata": {},
   "outputs": [],
   "source": [
    "def enficc(serie10):\n",
    "    ghi_mensual_loc = ghi_mensual(serie10)\n",
    "    ghi_diario_loc = ghi_dia(ghi_mensual_loc)\n",
    "    percentil = 0.01\n",
    "    enficc = ghi_diario_loc.quantile(q=percentil, \n",
    "                                 numeric_only=True)[\"GHIdiario\"]\n",
    "    return print('La ENFICC 99% es: ', enficc)\n",
    "    "
   ]
  },
  {
   "cell_type": "code",
   "execution_count": 149,
   "metadata": {},
   "outputs": [
    {
     "name": "stdout",
     "output_type": "stream",
     "text": [
      "La ENFICC 99% es:  3.53519358791\n"
     ]
    }
   ],
   "source": [
    "e=enficc(serieIDEAM)\n",
    "e"
   ]
  },
  {
   "cell_type": "markdown",
   "metadata": {},
   "source": [
    "## PUNTO 2 ##\n",
    "\n",
    "La idea de este punto es crear una funcion que grafica la distribucion de energia. La entrada corresponde a las diferentes series de 10 años en resolución horaria y la salida debe una gráfica."
   ]
  },
  {
   "cell_type": "code",
   "execution_count": 156,
   "metadata": {
    "collapsed": true
   },
   "outputs": [],
   "source": [
    "def graficade(serieagraficar):\n",
    "\n",
    "    ghi_mensual_loc = ghi_mensual(serieagraficar)\n",
    "    ghi_diario_loc = ghi_dia(ghi_mensual_loc)\n",
    "    datos_IDEAM = sorted(ghi_diario_loc[\"GHIdiario\"])\n",
    "    pylab.xlabel(\"Datos\")\n",
    "    pylab.ylabel(\"Energía/Energía Base IDEAM\")\n",
    "    numdatos = range(len(datos_IDEAM))\n",
    "    pylab.plot(numdatos,datos_IDEAM/datos_IDEAM[0],'-k', label='IDEAM')\n",
    "    pylab.legend(loc='upper left')\n",
    "    pylab.savefig(os.path.join(u'/Users/camilogarciatorres/Documents/GitHub','medellin_IDEAM.png'), dpi=600)\n",
    "    \n",
    "    return pylab.plot(numdatos,datos_IDEAM/datos_IDEAM[0],'-k', label='IDEAM')"
   ]
  },
  {
   "cell_type": "code",
   "execution_count": 157,
   "metadata": {},
   "outputs": [
    {
     "data": {
      "text/plain": [
       "[<matplotlib.lines.Line2D at 0x1a1952dba8>]"
      ]
     },
     "execution_count": 157,
     "metadata": {},
     "output_type": "execute_result"
    },
    {
     "data": {
      "image/png": "[encoded data removed]",
      "text/plain": [
       "<matplotlib.figure.Figure at 0x1a194f9c88>"
      ]
     },
     "metadata": {},
     "output_type": "display_data"
    }
   ],
   "source": [
    "graficade(serieIDEAM)"
   ]
  },
  {
   "cell_type": "markdown",
   "metadata": {},
   "source": [
    "## Punto 3 ##\n",
    "\n",
    "Este punto busca implementar una función para la Metodología Medición-Correlación-Predicción (MCP). La entrada a la función es la serie de corto plazo medida en sitio (OBJ) y la serie secundaría basada en información satelital correspondiente a 10 años de medición (REF). La salida debe corresponder a la serie de largo plazo (10 año, resolución horaria) ajustada siguiendo la metodología MCP."
   ]
  },
  {
   "cell_type": "code",
   "execution_count": null,
   "metadata": {},
   "outputs": [],
   "source": [
    "serieIDEAM.dtypes"
   ]
  },
  {
   "cell_type": "code",
   "execution_count": null,
   "metadata": {
    "collapsed": true
   },
   "outputs": [],
   "source": [
    "mediay=serieIDEAM['IDEAM'].mean()\n",
    "sigmay=serieIDEAM['IDEAM'].std()"
   ]
  },
  {
   "cell_type": "code",
   "execution_count": null,
   "metadata": {
    "collapsed": true
   },
   "outputs": [],
   "source": [
    "def MCP(mediax, mediay, sigmax, sigmay, x):\n",
    "    return ((mediay-(sigmay/sigmax)*mediax)+(sigmay/sigmax)*x)"
   ]
  },
  {
   "cell_type": "markdown",
   "metadata": {},
   "source": [
    "def pedazodedataframe(year1, year2, mes1, mes2, dia1, dia2,  serieIDEAM1):\n",
    "    for year in range(year1,year2):\n",
    "        for mes in range(mes1,mes2):\n",
    "            for dia in range(dia1,dia2):\n",
    "                listafinal= pd.DataFrame(columns=[\"AÑO\", \"MES\", \"DIAS\", \"GHIdia\"])\n",
    "                ghi_diario = serieIDEAM1.loc[(\n",
    "                            (serieIDEAMl[\"AÑO\"] == year)\n",
    "                            & (serieIDEAM1[\"MES\"] == mes))\n",
    "                               \"NREL\"].item()\n",
    "                ghi_dict = {\"AÑO\":agno, \"MES\":mes, \"DIAs\":dia,\n",
    "                        \"GHImes\":ghi_diario}\n",
    "                \n",
    "                listafinal = listafinal.append(ghi_dict, ignore_index=True)\n",
    "    return ghi_df\n",
    "\n"
   ]
  },
  {
   "cell_type": "code",
   "execution_count": null,
   "metadata": {
    "collapsed": true
   },
   "outputs": [],
   "source": [
    "def pedazodedataframe(year1, year2, mes1, mes2, dia1, dia2, serieIDEAM1):\n",
    "    \n",
    "    pedazo= serieIDEAM1[(serieIDEAM1['AÑO']>=year1) & (serieIDEAM1['AÑO']<=year2)\n",
    "                      & (serieIDEAM1['MES']>=mes1)& (serieIDEAM1['MES']<=mes2)\n",
    "                      & (serieIDEAM1['DIA']>=dia1)& (serieIDEAM1['DIA']<=dia2)]\n",
    "\n",
    "    return pedazo"
   ]
  },
  {
   "cell_type": "code",
   "execution_count": null,
   "metadata": {
    "collapsed": true
   },
   "outputs": [],
   "source": [
    "z= serieIDEAM[(serieIDEAM['AÑO']>=2006) & (serieIDEAM['AÑO']<=2006)]"
   ]
  },
  {
   "cell_type": "code",
   "execution_count": null,
   "metadata": {},
   "outputs": [],
   "source": [
    "x=pedazodedataframe(2005, 2005, 1, 1, 1, 30,serieIDEAM)\n",
    "x"
   ]
  },
  {
   "cell_type": "code",
   "execution_count": 145,
   "metadata": {
    "collapsed": true
   },
   "outputs": [],
   "source": [
    "def listaajustada(larga, corta):\n",
    "    \n",
    "    pedazolarga=larga[(larga['AÑO']>=corta.iloc[0,0]) & (larga['AÑO']<=corta.iloc[-1,0])]\n",
    "    sigmax1=pedazolarga['NREL'].std()\n",
    "    mediax1=pedazolarga['NREL'].mean()\n",
    "    mediax2=corta['IDEAM'].mean()\n",
    "    sigmax2=corta['IDEAM'].std()\n",
    "    \n",
    "    correccion=MCP(mediax1, mediax2, sigmax1, sigmax2, larga)\n",
    "    x=(correccion['NREL'])\n",
    "    x[x<0]=0\n",
    "    listafinal=serieREL.copy()\n",
    "    del listafinal['NREL']\n",
    "    listafinal['NREL']=x\n",
    "    \n",
    "    return listafinal\n",
    "    \n",
    "                                     #return listafinal"
   ]
  },
  {
   "cell_type": "code",
   "execution_count": 158,
   "metadata": {},
   "outputs": [
    {
     "data": {
      "text/html": [
       "<div>\n",
       "<style>\n",
       "    .dataframe thead tr:only-child th {\n",
       "        text-align: right;\n",
       "    }\n",
       "\n",
       "    .dataframe thead th {\n",
       "        text-align: left;\n",
       "    }\n",
       "\n",
       "    .dataframe tbody tr th {\n",
       "        vertical-align: top;\n",
       "    }\n",
       "</style>\n",
       "<table border=\"1\" class=\"dataframe\">\n",
       "  <thead>\n",
       "    <tr style=\"text-align: right;\">\n",
       "      <th></th>\n",
       "      <th>AÑO</th>\n",
       "      <th>MES</th>\n",
       "      <th>DIA</th>\n",
       "      <th>HORA</th>\n",
       "      <th>NREL</th>\n",
       "    </tr>\n",
       "  </thead>\n",
       "  <tbody>\n",
       "    <tr>\n",
       "      <th>0</th>\n",
       "      <td>2005</td>\n",
       "      <td>1</td>\n",
       "      <td>1</td>\n",
       "      <td>0</td>\n",
       "      <td>0.0</td>\n",
       "    </tr>\n",
       "    <tr>\n",
       "      <th>1</th>\n",
       "      <td>2005</td>\n",
       "      <td>1</td>\n",
       "      <td>1</td>\n",
       "      <td>1</td>\n",
       "      <td>0.0</td>\n",
       "    </tr>\n",
       "    <tr>\n",
       "      <th>2</th>\n",
       "      <td>2005</td>\n",
       "      <td>1</td>\n",
       "      <td>1</td>\n",
       "      <td>2</td>\n",
       "      <td>0.0</td>\n",
       "    </tr>\n",
       "    <tr>\n",
       "      <th>3</th>\n",
       "      <td>2005</td>\n",
       "      <td>1</td>\n",
       "      <td>1</td>\n",
       "      <td>3</td>\n",
       "      <td>0.0</td>\n",
       "    </tr>\n",
       "    <tr>\n",
       "      <th>4</th>\n",
       "      <td>2005</td>\n",
       "      <td>1</td>\n",
       "      <td>1</td>\n",
       "      <td>4</td>\n",
       "      <td>0.0</td>\n",
       "    </tr>\n",
       "  </tbody>\n",
       "</table>\n",
       "</div>"
      ],
      "text/plain": [
       "    AÑO  MES  DIA  HORA  NREL\n",
       "0  2005    1    1     0   0.0\n",
       "1  2005    1    1     1   0.0\n",
       "2  2005    1    1     2   0.0\n",
       "3  2005    1    1     3   0.0\n",
       "4  2005    1    1     4   0.0"
      ]
     },
     "execution_count": 158,
     "metadata": {},
     "output_type": "execute_result"
    }
   ],
   "source": [
    "y=listaajustada(serieREL, z)\n",
    "y.head()"
   ]
  },
  {
   "cell_type": "markdown",
   "metadata": {},
   "source": [
    "## PUNTO 4 ##\n",
    "\n",
    "La idea de este punto es implementar funciones para el cálculo de los indicadores de error. Cada error tiene su funcion: error RMS (RMSEn), error de sesgo medio (MBE) y Indice de Kolmogorov-Smagorinski (KSI%). La entrada a estas funciones son dos series de largo plazo (10 años y resolución horaria) y la salida el indicador de error dado."
   ]
  },
  {
   "cell_type": "code",
   "execution_count": null,
   "metadata": {
    "collapsed": true
   },
   "outputs": [],
   "source": [
    "def MB(satelite, tierra):\n",
    "    satelitecorta=satelite[(satelite['AÑO']>=tierra.iloc[0,0]) & (satelite['AÑO']<=tierra.iloc[-1,0])]\n",
    "    numdatos = len(satelitecorta)\n",
    "    x=(satelitecorta['NREL']-tierra['IDEAM']).sum()/numdatos\n",
    "    mb=x/(tierra['IDEAM'].sum()*numdatos)\n",
    "    \n",
    "    return mb"
   ]
  },
  {
   "cell_type": "code",
   "execution_count": null,
   "metadata": {
    "collapsed": true
   },
   "outputs": [],
   "source": [
    "def KSI(satelite, tierra):\n",
    "    satelitecorta=satelite[(satelite['AÑO']>=tierra.iloc[0,0]) & (satelite['AÑO']<=tierra.iloc[-1,0])]\n",
    "    calculos=stats.ks_2samp(satelitecorta['NREL'], tierra['IDEAM'])\n",
    "    x=('El error KSI', calculos[0],'y el p value es igual a', calculos[1])\n",
    "    \n",
    "    return print(x)"
   ]
  },
  {
   "cell_type": "code",
   "execution_count": null,
   "metadata": {
    "collapsed": true
   },
   "outputs": [],
   "source": [
    "def RMSEn(satelite, tierra):\n",
    "    satelitecorta=satelite[(satelite['AÑO']>=tierra.iloc[0,0]) & (satelite['AÑO']<=tierra.iloc[-1,0])]\n",
    "    energiasatelite = satelite['NREL']\n",
    "    energiatierra = tierra['IDEAM']\n",
    "    numdatos = len(energiasatelite)\n",
    "    \n",
    "    x=(((energiasatelite-energiatierra)**2).sum()/numdatos)**(1/2)\n",
    "    rmsen=x/(numdatos*energiatierra.sum())\n",
    "    \n",
    "    return rmsen\n",
    "    "
   ]
  },
  {
   "cell_type": "markdown",
   "metadata": {},
   "source": [
    "## PUNTO 5##"
   ]
  },
  {
   "cell_type": "code",
   "execution_count": null,
   "metadata": {
    "collapsed": true
   },
   "outputs": [],
   "source": [
    "ghi_mensual_loc = ghi_mensual(serieIDEAM)\n",
    "ghi_diario_loc = ghi_dia(ghi_mensual_loc)\n",
    "datos_IDEAM = sorted(ghi_diario_loc[\"GHIdiario\"])\n",
    "\n",
    "ghi_mensual_loc = ghi_mensual(serieREL)\n",
    "ghi_diario_loc = ghi_dia(ghi_mensual_loc)\n",
    "datos_NREL = sorted(ghi_diario_loc[\"GHIdiario\"])\n",
    "\n",
    "\n",
    "NREL2=listaajustada(serieREL, z)\n",
    "ghi_mensual_loc = ghi_mensual(NREL2)\n",
    "ghi_diario_loc = ghi_dia(ghi_mensual_loc)\n",
    "datos_NREL2 = sorted(ghi_diario_loc[\"GHIdiario\"])"
   ]
  },
  {
   "cell_type": "code",
   "execution_count": null,
   "metadata": {
    "scrolled": true
   },
   "outputs": [],
   "source": [
    "pylab.xlabel(\"Datos\")\n",
    "pylab.ylabel(\"Energía/Energía Base IDEAM\")\n",
    "numdatos = range(len(datos_IDEAM))\n",
    "numdatos2 = range(len(datos_NREL))\n",
    "numdatos3 = range(len(datos_NREL2))\n",
    "\n",
    "pylab.plot(numdatos,datos_IDEAM/datos_IDEAM[0],'-k', label='IDEAM')\n",
    "pylab.legend(loc='upper left')\n",
    "pylab.plot(numdatos2,datos_NREL/datos_IDEAM[0], label='NREL')\n",
    "pylab.legend(loc='upper left')\n",
    "pylab.plot(numdatos3,datos_NREL2/datos_IDEAM[0], label='NRELM')\n",
    "pylab.legend(loc='upper left')"
   ]
  },
  {
   "cell_type": "code",
   "execution_count": null,
   "metadata": {},
   "outputs": [],
   "source": []
  },
  {
   "cell_type": "code",
   "execution_count": null,
   "metadata": {
    "collapsed": true
   },
   "outputs": [],
   "source": []
  },
  {
   "cell_type": "code",
   "execution_count": null,
   "metadata": {
    "collapsed": true
   },
   "outputs": [],
   "source": []
  }
 ],
 "metadata": {
  "kernelspec": {
   "display_name": "Python 3",
   "language": "python",
   "name": "python3"
  },
  "language_info": {
   "codemirror_mode": {
    "name": "ipython",
    "version": 3
   },
   "file_extension": ".py",
   "mimetype": "text/x-python",
   "name": "python",
   "nbconvert_exporter": "python",
   "pygments_lexer": "ipython3",
   "version": "3.6.3"
  }
 },
 "nbformat": 4,
 "nbformat_minor": 2
}
